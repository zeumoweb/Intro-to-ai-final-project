{
 "cells": [
  {
   "cell_type": "markdown",
   "metadata": {},
   "source": [
    "## TIMELINE OF TASK FOR THE PROJECT"
   ]
  },
  {
   "cell_type": "markdown",
   "metadata": {},
   "source": [
    "* Function to read the data\n",
    "* Data Cleaning\n",
    "* Exploratory Data Analysis\n",
    "* Data Segmentation and Model Trianing\n",
    "* Compare the performance of Different models ( KNN, Random Forest, XgBoost)\n",
    "* Evaluation of the Models (Specificity, Sensitivity)\n",
    "* Conclusion /Insights"
   ]
  },
  {
   "cell_type": "markdown",
   "metadata": {},
   "source": [
    "### Dirtying the dataset\n",
    "\n",
    "* convert some one int column to objects\n",
    "* choose a binary column and make null 5% of the column (targeting only column with the mode value of the column) -> to fix we will fill those null spaces with the mode of the column.\n",
    "* Choose a column having true or false values and replace some of the False values with Fals\n",
    "* "
   ]
  }
 ],
 "metadata": {
  "kernelspec": {
   "display_name": "Python 3.10.8 64-bit (microsoft store)",
   "language": "python",
   "name": "python3"
  },
  "language_info": {
   "name": "python",
   "version": "3.10.8"
  },
  "orig_nbformat": 4,
  "vscode": {
   "interpreter": {
    "hash": "6abcb18ac0b6da510c9cb3fbb11dd0b167a2fe0f0b0d54ea2764fb27404e4dde"
   }
  }
 },
 "nbformat": 4,
 "nbformat_minor": 2
}
