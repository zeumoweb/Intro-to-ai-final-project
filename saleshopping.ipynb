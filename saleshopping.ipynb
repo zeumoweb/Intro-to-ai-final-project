{
 "cells": [
  {
   "cell_type": "markdown",
   "metadata": {},
   "source": [
    "## TIMELINE OF TASK FOR THE PROJECT"
   ]
  },
  {
   "cell_type": "markdown",
   "metadata": {},
   "source": [
    "* Function to read the data\n",
    "* Data Cleaning\n",
    "* Exploratory Data Analysis\n",
    "* Data Segmentation and Model Trianing\n",
    "* Compare the performance of Different models ( KNN, Random Forest, XgBoost)\n",
    "* Evaluation of the Models (Specificity, Sensitivity)\n",
    "* Conclusion /Insights"
   ]
  },
  {
   "cell_type": "markdown",
   "metadata": {},
   "source": [
    "### Dirtying the dataset\n",
    "\n",
    "* convert some one int column to objects\n",
    "* choose a binary column and make null 5% of the column (targeting only column with the mode value of the column) -> to fix we will fill those null spaces with the mode of the column.\n",
    "* Choose a column having true or false values and replace some of the False values with Fals\n",
    "* "
   ]
  },
  {
   "cell_type": "code",
   "execution_count": null,
   "metadata": {},
   "outputs": [],
   "source": [
    "import pandas as pd\n",
    "import numpy as np\n",
    "import matplotlib.pyplot as plt"
   ]
  },
  {
   "cell_type": "code",
   "execution_count": null,
   "metadata": {},
   "outputs": [],
   "source": [
    "data = pd.read_csv('shopping.csv')"
   ]
  },
  {
   "cell_type": "code",
   "execution_count": null,
   "metadata": {},
   "outputs": [],
   "source": [
    "# Set informational column to type string (Object)\n",
    "\n",
    "data['Informational'] = data['Informational'].astype(str)"
   ]
  },
  {
   "cell_type": "code",
   "execution_count": null,
   "metadata": {},
   "outputs": [],
   "source": [
    "# Set 500 rows where weekend if False to Null\n",
    "count = 0\n",
    "i = 0\n",
    "while (count < 500):\n",
    "  if data.iloc[i:i+1]['Weekend'].bool() == False:\n",
    "    count += 1\n",
    "    data.loc[i, \"Weekend\"] = np.nan\n",
    "  i += 1\n",
    "\n",
    "data.info()"
   ]
  },
  {
   "cell_type": "code",
   "execution_count": null,
   "metadata": {},
   "outputs": [],
   "source": [
    "count = 0\n",
    "i = 0\n",
    "while (count < 1346):\n",
    "  if data.iloc[i:i+1]['Revenue'].bool() == False:\n",
    "    count += 1\n",
    "    data.loc[i, \"Revenue\"] = 'Fals'\n",
    "  i += 1"
   ]
  },
  {
   "cell_type": "code",
   "execution_count": null,
   "metadata": {},
   "outputs": [],
   "source": [
    "data.info()"
   ]
  },
  {
   "cell_type": "code",
   "execution_count": null,
   "metadata": {},
   "outputs": [],
   "source": [
    "data.to_csv('shoppingdata.csv', index=False)  "
   ]
  }
 ],
 "metadata": {
  "kernelspec": {
   "display_name": "Python 3.9.13 ('myenv')",
   "language": "python",
   "name": "python3"
  },
  "language_info": {
   "codemirror_mode": {
    "name": "ipython",
    "version": 3
   },
   "file_extension": ".py",
   "mimetype": "text/x-python",
   "name": "python",
   "nbconvert_exporter": "python",
   "pygments_lexer": "ipython3",
   "version": "3.9.13"
  },
  "orig_nbformat": 4,
  "vscode": {
   "interpreter": {
    "hash": "9930ed311909a79bf496311ac9bdcd4a6f8e1da00149b644953bc490107a5c12"
   }
  }
 },
 "nbformat": 4,
 "nbformat_minor": 2
}
