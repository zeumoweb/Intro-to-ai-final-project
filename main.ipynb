{
 "cells": [
  {
   "cell_type": "markdown",
   "metadata": {},
   "source": [
    "## IMPORTING LIBRARIES"
   ]
  },
  {
   "cell_type": "code",
   "execution_count": 1,
   "metadata": {},
   "outputs": [],
   "source": [
    "# local modules\n",
    "import exploredata\n",
    "\n",
    "# external libraries\n",
    "import numpy as np\n",
    "import pandas as pd\n",
    "import matplotlib.pyplot as plt\n",
    "import seaborn as sns\n",
    "import os\n",
    "\n",
    "# scikit-learn modelling algorithms\n",
    "from sklearn.ensemble import RandomForestClassifier\n",
    "from sklearn.neighbors import KNeighborsClassifier    \n",
    "\n",
    "# deployment libraries\n",
    "import pickle as pc\n",
    "import gradio as gr\n",
    "\n",
    "import warnings\n",
    "warnings.filterwarnings('ignore')"
   ]
  },
  {
   "cell_type": "markdown",
   "metadata": {},
   "source": [
    "##### Function to load the dataset"
   ]
  },
  {
   "cell_type": "code",
   "execution_count": null,
   "metadata": {},
   "outputs": [],
   "source": [
    "def load_user_cookies_data(filename):\n",
    "    if os.path.isfile(filename):\n",
    "      return pd.read_csv(filename)\n",
    "    else:\n",
    "      return (\"Invalid file name, make sure the filename is correct and is in the same package\")"
   ]
  },
  {
   "cell_type": "code",
   "execution_count": null,
   "metadata": {},
   "outputs": [],
   "source": [
    "UserCookiesData = load_user_cookies_data(\"shopping.csv\")"
   ]
  },
  {
   "cell_type": "code",
   "execution_count": null,
   "metadata": {},
   "outputs": [],
   "source": [
    "UserCookiesData.info()"
   ]
  },
  {
   "cell_type": "code",
   "execution_count": null,
   "metadata": {},
   "outputs": [],
   "source": [
    "UserCookiesData.head()"
   ]
  },
  {
   "cell_type": "code",
   "execution_count": null,
   "metadata": {},
   "outputs": [],
   "source": [
    "UserCookiesData['Revenue'] = UserCookiesData['Revenue'].astype(int)\n",
    "UserCookiesData['Revenue'].value_counts()"
   ]
  },
  {
   "cell_type": "markdown",
   "metadata": {},
   "source": [
    "## EXPLORATORY DATA ANALYSIS"
   ]
  },
  {
   "cell_type": "markdown",
   "metadata": {},
   "source": [
    "* Here We will use the helper functions in the local explore.py module"
   ]
  },
  {
   "cell_type": "code",
   "execution_count": null,
   "metadata": {},
   "outputs": [],
   "source": [
    "# checking the Distribution of customers on Revenue\n",
    "\n",
    "plt.rcParams['figure.figsize'] = (13, 5)\n",
    "plt.subplot(1, 2, 1)\n",
    "sns.countplot(UserCookiesData['Revenue'], palette = 'coolwarm_r')\n",
    "plt.title('Distribution of customers on Revenue', fontsize = 15)\n",
    "plt.xlabel('Revenue or not', fontsize = 15)\n",
    "plt.ylabel('count', fontsize = 15)\n",
    "plt.show()"
   ]
  },
  {
   "cell_type": "markdown",
   "metadata": {},
   "source": [
    "##### Plotting a pie chart for operating systems distribution"
   ]
  },
  {
   "cell_type": "code",
   "execution_count": null,
   "metadata": {},
   "outputs": [],
   "source": [
    "UserCookiesData['OperatingSystems'].value_counts()"
   ]
  },
  {
   "cell_type": "code",
   "execution_count": null,
   "metadata": {},
   "outputs": [],
   "source": [
    "#Prepare and split into train, validate, and test sets.\n",
    "train, validate, test = exploredata.process_unencoded_data(data = UserCookiesData )\n"
   ]
  },
  {
   "cell_type": "code",
   "execution_count": null,
   "metadata": {},
   "outputs": [],
   "source": [
    "UserCookiesData.select_dtypes('object').columns"
   ]
  },
  {
   "cell_type": "code",
   "execution_count": null,
   "metadata": {},
   "outputs": [],
   "source": [
    "\n",
    "categorical_vars = UserCookiesData.select_dtypes('object').columns\n",
    "quantitative_vars = UserCookiesData.select_dtypes('float').columns\n",
    "int_vars = UserCookiesData.select_dtypes('int').columns"
   ]
  },
  {
   "cell_type": "markdown",
   "metadata": {},
   "source": [
    "##### Exploring univariate variables"
   ]
  },
  {
   "cell_type": "code",
   "execution_count": null,
   "metadata": {},
   "outputs": [],
   "source": [
    "UserCookiesData['OperatingSystems'].value_counts()"
   ]
  },
  {
   "cell_type": "code",
   "execution_count": null,
   "metadata": {},
   "outputs": [],
   "source": [
    "# This code cell is plotting a pie chart of the different operating systems.\n",
    "size = [6601, 2585, 2555, 589]\n",
    "colors = ['violet', 'yellow', 'green', 'orange']\n",
    "labels = \"2\", \"1\", \"3\", \"others\"\n",
    "plt.rcParams['figure.figsize'] = (18, 7)\n",
    "plt.subplot(1, 2, 2)\n",
    "plt.pie(size, colors = colors, labels = labels, shadow = True, autopct = '%.2f%%', startangle=90)\n",
    "plt.title('Different Operating Systems', fontsize = 30)\n",
    "plt.axis('off')\n",
    "plt.legend()\n",
    "plt.show()"
   ]
  },
  {
   "cell_type": "code",
   "execution_count": null,
   "metadata": {},
   "outputs": [],
   "source": [
    "# This code cell is plotting a pie chart for the visitor types\n",
    "size = [10551, 1694, 85]\n",
    "explode = [0, 0, 0.1]\n",
    "labels = \"Returning Visitor\", \"New Visitor\", \"Others\"\n",
    "colors = ['blue', 'lightblue', 'orange']\n",
    "plt.rcParams['figure.figsize'] = (18, 7)\n",
    "plt.subplot(1, 2, 1)\n",
    "plt.pie(size, colors = colors, labels = labels, explode = explode, shadow = True, autopct = '%.2f%%')\n",
    "plt.title('Different Visitors', fontsize = 30)\n",
    "plt.axis('off')\n",
    "plt.legend()\n",
    "plt.show()"
   ]
  },
  {
   "cell_type": "code",
   "execution_count": null,
   "metadata": {},
   "outputs": [],
   "source": [
    "exploredata.univariate(UserCookiesData, categorical_vars, quantitative_vars)"
   ]
  },
  {
   "cell_type": "markdown",
   "metadata": {},
   "source": [
    "##### Observations from univariate exploration"
   ]
  },
  {
   "cell_type": "markdown",
   "metadata": {},
   "source": [
    "- Different user types with reference to region are not normally (Gaussian) distributed. This regional data has an exponential distribution. Therefore, we must be concerned with this type distribution.\n",
    "- Multiple types of traffic are not normally(Gaussian) distributed. This data has an exponential distribution.\n",
    "- More than 85% of visitors are repeat customers, which is enormous. For marketing purposes, this information can be useful.\n",
    "- 90% of people only used the top 3 browsers.\n",
    "- 95% of the users in  this session cookies data uses the top 3 Operating Systems. The online will then need to concentrate on these browsers in order to grow embark on specific operations to increase customer purchases.\n",
    "- The distribution of Weekend and Revenue statistics is highly unbalanced."
   ]
  },
  {
   "cell_type": "code",
   "execution_count": null,
   "metadata": {},
   "outputs": [],
   "source": []
  },
  {
   "cell_type": "markdown",
   "metadata": {},
   "source": [
    "##### Exploring Bivariate Analysis"
   ]
  },
  {
   "cell_type": "code",
   "execution_count": null,
   "metadata": {},
   "outputs": [],
   "source": [
    "UserCookiesData.head(1)"
   ]
  },
  {
   "cell_type": "code",
   "execution_count": null,
   "metadata": {},
   "outputs": [],
   "source": [
    "exploredata.bivariate_categorical(data=UserCookiesData, target=\"Revenue\", categorical_variable =\"Weekend\" )"
   ]
  },
  {
   "cell_type": "code",
   "execution_count": null,
   "metadata": {},
   "outputs": [],
   "source": [
    "exploredata.bivariate_categorical(data = UserCookiesData, target= 'Revenue', categorical_variable = 'OperatingSystems')"
   ]
  },
  {
   "cell_type": "code",
   "execution_count": null,
   "metadata": {},
   "outputs": [],
   "source": [
    "exploredata.bivariate_quant(data = UserCookiesData, target = 'Revenue', quantitative_var = 'PageValues')"
   ]
  },
  {
   "cell_type": "code",
   "execution_count": null,
   "metadata": {},
   "outputs": [],
   "source": [
    "exploredata.bivariate_quant(data = UserCookiesData, target = 'Revenue', quantitative_var = 'ExitRates')"
   ]
  },
  {
   "cell_type": "code",
   "execution_count": null,
   "metadata": {},
   "outputs": [],
   "source": [
    "exploredata.bivariate_quant(data = UserCookiesData, target=\"Revenue\", quantitative_var=\"BounceRates\")"
   ]
  },
  {
   "cell_type": "code",
   "execution_count": null,
   "metadata": {},
   "outputs": [],
   "source": [
    "plt.figure(figsize=(15, 15))\n",
    "sns.heatmap(UserCookiesData.corr(), cmap='coolwarm', center=0, annot=True)\n",
    "plt.show()"
   ]
  },
  {
   "cell_type": "code",
   "execution_count": null,
   "metadata": {},
   "outputs": [],
   "source": [
    "plt.figure(figsize=[10,5])\n",
    "sns.pairplot(UserCookiesData,x_vars=['BounceRates','ExitRates'],y_vars=['BounceRates','ExitRates'],hue='Revenue',diag_kind='kde')\n",
    "plt.show()"
   ]
  },
  {
   "cell_type": "code",
   "execution_count": null,
   "metadata": {},
   "outputs": [],
   "source": [
    "\n",
    "exploredata.plot_cat_by_target(data =UserCookiesData, target_variable = \"Revenue\", categorical_var = \"VisitorType\")"
   ]
  },
  {
   "cell_type": "markdown",
   "metadata": {},
   "source": [
    "##### *Brief observations from bivariate analysis*"
   ]
  },
  {
   "cell_type": "markdown",
   "metadata": {},
   "source": [
    "## Statistical Analysis"
   ]
  },
  {
   "cell_type": "markdown",
   "metadata": {},
   "source": [
    "#### Hypothesis Testing"
   ]
  },
  {
   "cell_type": "markdown",
   "metadata": {},
   "source": [
    "##### Test Analysis for Categorical variables with label variable (Revenue)"
   ]
  },
  {
   "cell_type": "code",
   "execution_count": null,
   "metadata": {},
   "outputs": [],
   "source": [
    "alpha = 0.05"
   ]
  },
  {
   "cell_type": "markdown",
   "metadata": {},
   "source": [
    "  #### **Hypothesis 1**\n",
    "  - Ho : Browser type is independent of the revenue(either purchased made or not) of customers \n",
    "  - Ha : Browser type is not independent of the revenue(either purchased made or not) of customers\n",
    "\n",
    "\n",
    "  Using that alpha = 0.05"
   ]
  },
  {
   "cell_type": "code",
   "execution_count": null,
   "metadata": {},
   "outputs": [],
   "source": [
    "sns.histplot(data=UserCookiesData, x='Browser', hue=\"Revenue\" , palette =[\"yellow\", \"blue\"] )"
   ]
  },
  {
   "cell_type": "code",
   "execution_count": null,
   "metadata": {},
   "outputs": [],
   "source": [
    "test1 = exploredata.run_chi2(data= UserCookiesData, categorical_var = \"Browser\", target_variable=\"Revenue\")\n",
    "test1"
   ]
  },
  {
   "cell_type": "code",
   "execution_count": null,
   "metadata": {},
   "outputs": [],
   "source": [
    "test1[0]['p-value']< alpha"
   ]
  },
  {
   "cell_type": "markdown",
   "metadata": {},
   "source": [
    "* ##### *TakeAways from test 1*\n",
    "    - Since the p-value is greater than alpha (a significance value of 0.05), we failed to reject the null hypothesis that Browser type is independent of a users decision to make purchase.\n",
    "    - We conclude that, a user decision to either make purchase from an online shop is not affected by the type of Browser they user\n",
    "    - This will help us in our next method about feature engineering and feature selection to improve the effectives of some models like the Random forest classifier\n",
    "    - We will not include Browser type in the features."
   ]
  },
  {
   "cell_type": "markdown",
   "metadata": {},
   "source": [
    "#### **Hypothesis 2**\n",
    "\n",
    "  + Ho : VisitorType is independent of the purchase decision of the user\n",
    "  + Ha : VisitorType is not independent of the purchase decision of the user"
   ]
  },
  {
   "cell_type": "code",
   "execution_count": null,
   "metadata": {},
   "outputs": [],
   "source": [
    "sns.histplot(data=UserCookiesData, x=\"VisitorType\", hue=\"Revenue\", palette=[\"lightgreen\", \"yellow\"])"
   ]
  },
  {
   "cell_type": "code",
   "execution_count": null,
   "metadata": {},
   "outputs": [],
   "source": [
    "test2 = exploredata.run_chi2(data=UserCookiesData, categorical_var = \"VisitorType\", target_variable = \"Revenue\")\n",
    "test2"
   ]
  },
  {
   "cell_type": "code",
   "execution_count": null,
   "metadata": {},
   "outputs": [],
   "source": [
    "test2[0][\"p-value\"] < alpha"
   ]
  },
  {
   "cell_type": "markdown",
   "metadata": {},
   "source": [
    "* ##### *TakeAways from test 2*\n",
    "    - Since the p-value is less than alpha (a significance value of 0.05), we reject the null hypothesis that Visitor type is independent of a users decision to make purchase.\n",
    "    - We conclude that, a user decision to either make purchase from an online shop is not independent of the Visitors Type (Either returning user or new user)\n",
    "    - This will help us in our next method about feature engineering and feature selection to improve the effectives of some models like the Random forest classifier\n",
    "    - We will include VisitorType in the features for our Random Forest classifer training"
   ]
  },
  {
   "cell_type": "markdown",
   "metadata": {},
   "source": [
    " #### **Hypothesis 3**\n",
    "    * Ho: ProductRelated is independent of the purchase decision of the user\n",
    "    * Ha: ProductRelated is independent of the purchase decison of the user"
   ]
  },
  {
   "cell_type": "code",
   "execution_count": null,
   "metadata": {},
   "outputs": [],
   "source": [
    "plt.figure(figsize=[20,10])\n",
    "sns.histplot(data = UserCookiesData,weights=3, x='ProductRelated', hue=\"Revenue\", palette=[\"red\", \"green\"])"
   ]
  },
  {
   "cell_type": "code",
   "execution_count": null,
   "metadata": {},
   "outputs": [],
   "source": [
    "test3 = exploredata.run_chi2(data=UserCookiesData, categorical_var=\"ProductRelated\", target_variable=\"Revenue\")"
   ]
  },
  {
   "cell_type": "markdown",
   "metadata": {},
   "source": [
    "* ##### TakeAways from test 3"
   ]
  },
  {
   "cell_type": "markdown",
   "metadata": {},
   "source": [
    "  #### **Hypothesis 4**\n",
    "  - Ho:Operating Systems is independent of a users buying decision\n",
    "  - Ha: Operating Systems is not independent of a users buying decision"
   ]
  },
  {
   "cell_type": "code",
   "execution_count": null,
   "metadata": {},
   "outputs": [],
   "source": [
    "sns.histplot(data = UserCookiesData, weights=20, x = \"OperatingSystems\", hue = \"Revenue\", palette=[\"Black\", \"Yellow\"])"
   ]
  },
  {
   "cell_type": "code",
   "execution_count": null,
   "metadata": {},
   "outputs": [],
   "source": [
    "test4 = exploredata.run_chi2(data=UserCookiesData, categorical_var = \"OperatingSystems\", target_variable = \"Revenue\")\n",
    "test4"
   ]
  },
  {
   "cell_type": "code",
   "execution_count": null,
   "metadata": {},
   "outputs": [],
   "source": [
    "test4[0]['p-value'] < alpha"
   ]
  },
  {
   "cell_type": "markdown",
   "metadata": {},
   "source": [
    "* ##### *TakeAways from test 4*\n",
    "    - Since the p-value is less than the significance value of 0.05, we reject the null hypothesis and infer that the Operating Systems type is not independent of the customers intention to make a purchase"
   ]
  },
  {
   "cell_type": "markdown",
   "metadata": {},
   "source": [
    " #### **Hypothesis 5**"
   ]
  },
  {
   "cell_type": "code",
   "execution_count": null,
   "metadata": {},
   "outputs": [],
   "source": [
    "test5 = exploredata.run_chi2(data = UserCookiesData, categorical_var = \"Weekend\", target_variable = \"Revenue\")\n",
    "test5"
   ]
  },
  {
   "cell_type": "code",
   "execution_count": null,
   "metadata": {},
   "outputs": [],
   "source": [
    "test5[0]['p-value'] < alpha"
   ]
  },
  {
   "cell_type": "markdown",
   "metadata": {},
   "source": [
    "* ##### *TakeAways from test 5*\n",
    "    - Since the p-value is greater than alpha (a significance value of 0.05), we failed to reject the null hypothesis that Weekend is independent of a users decision to make purchase.\n",
    "    - We conclude that, a user decision to either make purchase from an online shop is not affected by the type whethe the user visits the website in weekends or not\n",
    "    - This pre-informs us that Weekend as a feature will not be used in our feature engineering and feature selection to improve the effectives of some models like the Random forest classifier\n",
    "    - We will not include Weekend in the features."
   ]
  },
  {
   "cell_type": "markdown",
   "metadata": {},
   "source": [
    "#### **Hypothesis test 6**\n",
    "\n",
    "  * Ho: The Region location of a customer is independent of the purchasing intent of the customer\n",
    "* Ha: The Region location of a customer is not independent of the purchasing intent of the customer"
   ]
  },
  {
   "cell_type": "code",
   "execution_count": null,
   "metadata": {},
   "outputs": [],
   "source": []
  },
  {
   "cell_type": "code",
   "execution_count": null,
   "metadata": {},
   "outputs": [],
   "source": [
    "\n",
    "sns.histplot(data=UserCookiesData, x = \"Region\", hue=\"Revenue\", bins=10, weights=30,palette=\"coolwarm\" )"
   ]
  },
  {
   "cell_type": "code",
   "execution_count": null,
   "metadata": {},
   "outputs": [],
   "source": [
    "test6 = exploredata.run_chi2(data=UserCookiesData, categorical_var=\"Region\", target_variable = \"Revenue\")\n",
    "print(test6)"
   ]
  },
  {
   "cell_type": "code",
   "execution_count": null,
   "metadata": {},
   "outputs": [],
   "source": [
    "test6[0]['p-value'] < alpha"
   ]
  },
  {
   "cell_type": "markdown",
   "metadata": {},
   "source": [
    "* ##### *TakeAways from test 6*\n",
    "   - Since the p-value is greater than the significane value of 0.05, we reject the null hypothesis and a conclsion drawn that the purchasing intent of a customer is not dependent on the Region location of a customer."
   ]
  },
  {
   "cell_type": "markdown",
   "metadata": {},
   "source": [
    "##### **Hypothesis Test Analysis for Quantitative variables with label variable (Revenue)**"
   ]
  },
  {
   "cell_type": "code",
   "execution_count": null,
   "metadata": {},
   "outputs": [],
   "source": [
    "quant_vars = ['BounceRates', 'ExitRates', 'PageValues', 'Administrative_Duration','Informational_Duration','ProductRelated_Duration']"
   ]
  },
  {
   "cell_type": "code",
   "execution_count": null,
   "metadata": {},
   "outputs": [],
   "source": [
    "exploredata.two_t_test(data = UserCookiesData, quantitative_vars=quant_vars, target_variable = 'Revenue')"
   ]
  },
  {
   "cell_type": "markdown",
   "metadata": {},
   "source": [
    "* ##### ***TakeAways from the levene, mannwhitneyu and shiporo-wilk test for the numerical variables***"
   ]
  },
  {
   "cell_type": "markdown",
   "metadata": {},
   "source": [
    "## DATA PREPROCESSING"
   ]
  },
  {
   "cell_type": "markdown",
   "metadata": {},
   "source": [
    "##### *Encoding both weekend and the label variable (Revenue) into numeric for modelling*"
   ]
  },
  {
   "cell_type": "code",
   "execution_count": null,
   "metadata": {},
   "outputs": [],
   "source": [
    "from sklearn.preprocessing import LabelEncoder\n",
    "from sklearn.model_selection import train_test_split"
   ]
  },
  {
   "cell_type": "code",
   "execution_count": null,
   "metadata": {},
   "outputs": [],
   "source": [
    "UserCookiesEncoded = pd.get_dummies(UserCookiesData)"
   ]
  },
  {
   "cell_type": "code",
   "execution_count": null,
   "metadata": {},
   "outputs": [],
   "source": [
    "UserCookiesEncoded.head()"
   ]
  },
  {
   "cell_type": "code",
   "execution_count": null,
   "metadata": {},
   "outputs": [],
   "source": [
    "UserCookiesEncoded.info()"
   ]
  },
  {
   "cell_type": "code",
   "execution_count": null,
   "metadata": {},
   "outputs": [],
   "source": [
    "encoder = LabelEncoder()"
   ]
  },
  {
   "cell_type": "code",
   "execution_count": null,
   "metadata": {},
   "outputs": [],
   "source": [
    "UserCookiesEncoded[\"Weekend\"] = encoder.fit_transform(UserCookiesEncoded[\"Weekend\"])"
   ]
  },
  {
   "cell_type": "code",
   "execution_count": null,
   "metadata": {},
   "outputs": [],
   "source": [
    "UserCookiesEncoded[\"Revenue\"] = encoder.fit_transform(UserCookiesEncoded[\"Revenue\"])"
   ]
  },
  {
   "cell_type": "code",
   "execution_count": null,
   "metadata": {},
   "outputs": [],
   "source": [
    "UserCookiesEncoded[\"Revenue\"].value_counts()"
   ]
  },
  {
   "cell_type": "markdown",
   "metadata": {},
   "source": [
    "##### *Data segmentation into training and testing data sets*"
   ]
  },
  {
   "cell_type": "code",
   "execution_count": null,
   "metadata": {},
   "outputs": [],
   "source": [
    "y_label = UserCookiesEncoded[\"Revenue\"]\n",
    "x_label = UserCookiesEncoded.drop([\"Revenue\"],axis=1)"
   ]
  },
  {
   "cell_type": "code",
   "execution_count": null,
   "metadata": {},
   "outputs": [],
   "source": [
    "\n",
    "x_train, x_test, y_train, y_test = train_test_split(x_label, y_label, test_size =  0.2, random_state = 0)"
   ]
  },
  {
   "cell_type": "code",
   "execution_count": null,
   "metadata": {},
   "outputs": [],
   "source": [
    "x_train.info()"
   ]
  },
  {
   "cell_type": "markdown",
   "metadata": {},
   "source": [
    "## MODEL TRAINING AND TESTING"
   ]
  },
  {
   "cell_type": "markdown",
   "metadata": {},
   "source": [
    "#### ***Random Forest Modelling***"
   ]
  },
  {
   "cell_type": "code",
   "execution_count": null,
   "metadata": {},
   "outputs": [],
   "source": [
    "from sklearn.metrics import confusion_matrix"
   ]
  },
  {
   "cell_type": "code",
   "execution_count": null,
   "metadata": {},
   "outputs": [],
   "source": [
    "import warnings\n",
    "\n",
    "def compare_random_classifier_models(x_train, y_train, x_test, y_test):\n",
    "    models_cont = []\n",
    "    for num in range(2, 20):\n",
    "        for val in range(1, 23):\n",
    "            classifier = RandomForestClassifier(n_estimators=50, random_state = 126, max_depth = num, min_samples_leaf = val)\n",
    "            classifier.fit(x_train, y_train)\n",
    "            train_score = classifier.score(x_train, y_train)\n",
    "            predictions = classifier.predict(x_test)\n",
    "\n",
    "            tp = confusion_matrix(y_test, predictions)[1][1]\n",
    "            fp = confusion_matrix(y_test, predictions)[0][1]\n",
    "            tn = confusion_matrix(y_test, predictions)[0][0]\n",
    "            fn = confusion_matrix(y_test, predictions)[1][0]\n",
    "            test_score = classifier.score(x_test, y_test)\n",
    "            eval_params = {\n",
    "                'max_depth':num,\n",
    "                'min_samples_leaf': val,\n",
    "                'True Positves': tp,\n",
    "                'False Positives': fp,\n",
    "                'True Negatives': tn,\n",
    "                'False Negatvies': fn,\n",
    "                'Precision': tp / (tp + fp),\n",
    "                'Recall': tp / (tp + fn),\n",
    "                'Specificity': round(tn / (tn + fp),2),\n",
    "                'Training Accuracy': round(train_score, 2),\n",
    "                'Test Accuracy': round(test_score,2)\n",
    "            }\n",
    "            models_cont.append(eval_params)\n",
    "    return pd.DataFrame(models_cont)\n"
   ]
  },
  {
   "cell_type": "code",
   "execution_count": null,
   "metadata": {},
   "outputs": [],
   "source": [
    "compare_random_classifier_models(x_train, y_train, x_test, y_test)"
   ]
  },
  {
   "cell_type": "markdown",
   "metadata": {},
   "source": [
    "* #### Feature Engineering for random forest model"
   ]
  },
  {
   "cell_type": "code",
   "execution_count": null,
   "metadata": {},
   "outputs": [],
   "source": [
    "UserCookiesEncoded.drop(['Browser', 'Weekend'], axis=1,inplace=True)"
   ]
  },
  {
   "cell_type": "code",
   "execution_count": null,
   "metadata": {},
   "outputs": [],
   "source": [
    "def test_best_random_forest_classifier(x_train, y_train, x_test, y_test):\n",
    "    classifier = RandomForestClassifier(random_state = 123, max_depth = 394, min_samples_leaf = 19)\n",
    "    classifier.fit(x_train, y_train)\n",
    "    train_score = classifier.score(x_train, y_train)\n",
    "    test_score = classifier.score(x_test, y_test)\n",
    "    predictions = classifier.predict(x_test)\n",
    "\n",
    "    tp = confusion_matrix(y_test, predictions)[1][1]\n",
    "    fp = confusion_matrix(y_test, predictions)[0][1]\n",
    "    tn = confusion_matrix(y_test, predictions)[0][0]\n",
    "    fn = confusion_matrix(y_test, predictions)[1][0]\n",
    "    test_score = classifier.score(x_test, y_test)\n",
    "    eval_params = {\n",
    "        'max_depth':395,\n",
    "        'min_samples_leaf': 19,\n",
    "        'True Positves': tp,\n",
    "        'False Positives': fp,\n",
    "        'True Negatives': tn,\n",
    "        'False Negatvies': fn,\n",
    "        'Precision': tp / (tp + fp),\n",
    "        'Recall': tp / (tp + fn),\n",
    "        'Specificity': round(tn / (tn + fp),2),\n",
    "        'Training Accuracy': round(train_score, 2),\n",
    "        'Test Accuracy': round(test_score,2)\n",
    "    }\n",
    "    test_results = [eval_params]\n",
    "    test_df = pd.DataFrame(test_results)\n",
    "    return classifier, test_df"
   ]
  },
  {
   "cell_type": "code",
   "execution_count": null,
   "metadata": {},
   "outputs": [],
   "source": [
    "rnf_model = test_best_random_forest_classifier(x_train, y_train,x_test, y_test)"
   ]
  },
  {
   "cell_type": "code",
   "execution_count": null,
   "metadata": {},
   "outputs": [],
   "source": [
    "rnf_model[1]"
   ]
  },
  {
   "cell_type": "code",
   "execution_count": null,
   "metadata": {},
   "outputs": [],
   "source": [
    "with open(\"rnf_classifier1.pkl\", \"wb\") as f:\n",
    "  pc.dump(rnf_model[0], f)  "
   ]
  },
  {
   "cell_type": "markdown",
   "metadata": {},
   "source": [
    "* #### HyperParameter Tunning for random forest model"
   ]
  },
  {
   "cell_type": "code",
   "execution_count": null,
   "metadata": {},
   "outputs": [],
   "source": [
    "from pprint import pprint\n",
    "tuned_rf = RandomForestClassifier(random_state = 123)\n",
    "print('Parameters currently in use:\\n')\n",
    "pprint(tuned_rf.get_params())"
   ]
  },
  {
   "cell_type": "code",
   "execution_count": null,
   "metadata": {},
   "outputs": [],
   "source": [
    "from sklearn.model_selection import RandomizedSearchCV\n",
    "\n",
    "n_estimators = [int(x) for x in np.linspace(start = 200, stop = 2000, num = 10)]\n",
    "max_features = ['auto', 'sqrt']\n",
    "max_depth = [int(x) for x in np.linspace(10, 110, num = 11)]\n",
    "max_depth.append(None)\n",
    "min_samples_split = [2, 5, 10]\n",
    "min_samples_leaf = [1, 2, 4]\n",
    "bootstrap = [True, False]\n",
    "random_grid = {'n_estimators': n_estimators,\n",
    "               'max_features': max_features,\n",
    "               'max_depth': max_depth,\n",
    "               'min_samples_split': min_samples_split,\n",
    "               'min_samples_leaf': min_samples_leaf,\n",
    "               'bootstrap': bootstrap}\n",
    "pprint(random_grid)"
   ]
  },
  {
   "cell_type": "code",
   "execution_count": null,
   "metadata": {},
   "outputs": [],
   "source": [
    "rf = RandomForestClassifier()\n",
    "tuned_rnf= RandomizedSearchCV(estimator = rf, param_distributions = random_grid, n_iter = 100, cv = 3, verbose=2, random_state=42, n_jobs = -1)\n",
    "tuned_rnf.fit(x_train, y_train)"
   ]
  },
  {
   "cell_type": "code",
   "execution_count": null,
   "metadata": {},
   "outputs": [],
   "source": [
    "def evaluate(model, x_test, y_test):\n",
    "    predictions = model.predict(x_test)\n",
    "    errors = abs(predictions - y_test)\n",
    "    mape = 100 * np.mean(errors / y_test)\n",
    "    print('Model Performance')\n",
    "    print()\n",
    "    print('Average Error: {:0.4f} degrees.'.format(np.mean(errors)))\n",
    "    print('Accuracy = {:0.2f}%.'.format(model.score(x_test, y_test)))"
   ]
  },
  {
   "cell_type": "code",
   "execution_count": null,
   "metadata": {},
   "outputs": [],
   "source": [
    "best_random = tuned_rnf.best_estimator_\n",
    "random_accuracy = evaluate(best_random, x_test, y_test)"
   ]
  },
  {
   "cell_type": "markdown",
   "metadata": {},
   "source": [
    "#### ***KNN Modelling***"
   ]
  },
  {
   "cell_type": "code",
   "execution_count": null,
   "metadata": {},
   "outputs": [],
   "source": [
    "from sklearn.model_selection import cross_val_score\n",
    "from sklearn.model_selection import GridSearchCV"
   ]
  },
  {
   "cell_type": "code",
   "execution_count": null,
   "metadata": {},
   "outputs": [],
   "source": [
    "knn_classifier = KNeighborsClassifier(n_neighbors=3)\n",
    "knn_classifier.fit(x_train, y_train)"
   ]
  },
  {
   "cell_type": "code",
   "execution_count": null,
   "metadata": {},
   "outputs": [],
   "source": [
    "knn_classifier.predict(x_test)"
   ]
  },
  {
   "cell_type": "code",
   "execution_count": null,
   "metadata": {},
   "outputs": [],
   "source": [
    "knn_classifier.score(x_test, y_test)"
   ]
  },
  {
   "cell_type": "markdown",
   "metadata": {},
   "source": [
    "- * With a random choice for k=3, we had an accuracy of 85%, which is a good start for this model"
   ]
  },
  {
   "cell_type": "markdown",
   "metadata": {},
   "source": [
    "* ##### K-Fold cross validation for KNN model"
   ]
  },
  {
   "cell_type": "code",
   "execution_count": null,
   "metadata": {},
   "outputs": [],
   "source": [
    "knn_cross_valid = KNeighborsClassifier(n_neighbors=3)\n",
    "cv_scores = cross_val_score(knn_cross_valid, x_train, y_train, cv=5)\n",
    "print(cv_scores)\n",
    "print('cv_scores mean:{}'.format(np.mean(cv_scores, keepdims = True)))"
   ]
  },
  {
   "cell_type": "markdown",
   "metadata": {},
   "source": [
    "- * With a K-Fold cross validation for the KNN model we had an improvement in accuracy which is 86%"
   ]
  },
  {
   "cell_type": "markdown",
   "metadata": {},
   "source": [
    "* ##### GridSearchCv hypertuning for KNN model"
   ]
  },
  {
   "cell_type": "code",
   "execution_count": null,
   "metadata": {},
   "outputs": [],
   "source": [
    "\n",
    "knn2 = KNeighborsClassifier()\n",
    "param_grid = {'n_neighbors': np.arange(1, 25)}\n",
    "knn_gscv = GridSearchCV(knn2, param_grid, cv=5)\n",
    "knn_gscv.fit(x_train, y_train)"
   ]
  },
  {
   "cell_type": "code",
   "execution_count": null,
   "metadata": {},
   "outputs": [],
   "source": [
    "knn_gscv.best_params_"
   ]
  },
  {
   "cell_type": "code",
   "execution_count": null,
   "metadata": {},
   "outputs": [],
   "source": [
    "knn_gscv.best_score_"
   ]
  },
  {
   "cell_type": "markdown",
   "metadata": {},
   "source": [
    "- * With GridSearchCv hypertuning for the KNN model there was a slight improvement in the models accuracy to 87%"
   ]
  },
  {
   "cell_type": "markdown",
   "metadata": {},
   "source": [
    "### DEPLOYMENT OF BEST MODEL WITH GRADIO"
   ]
  },
  {
   "cell_type": "code",
   "execution_count": null,
   "metadata": {},
   "outputs": [],
   "source": [
    "\n",
    "def make_prediction(administrative, administrative_duration, informational, informational_duration, product_related, productRelated_duration,bounce_rates, exit_rates, page_values, special_day, month, operating_sytems, browser, region, traffic_type, visitor_type, weekend):\n",
    "    with open(\"rnf_classifier.pkl\", \"rb\") as f:\n",
    "        rnf_classifier  = pc.load(f)\n",
    "        test_vars = np.array([administrative, administrative_duration, informational, informational_duration, product_related, productRelated_duration,bounce_rates, exit_rates, page_values, special_day, month, operating_sytems, browser, region, traffic_type, visitor_type, weekend])\n",
    "        df = pd.DataFrame(test_vars)\n",
    "        test_vars_d = pd.get_dummies([[administrative, administrative_duration, informational, informational_duration, product_related, productRelated_duration,bounce_rates, exit_rates, page_values, special_day, month, operating_sytems, browser, region, traffic_type, visitor_type, weekend]])\n",
    "        print(test_vars_d)\n",
    "        preds = rnf_classifier.predict(test_vars)\n",
    "        if preds == 1:\n",
    "                return \"This customer will make a purchase within a browsing session\"\n",
    "        return \"This customer will not make a purchase within a browsing session\"\n"
   ]
  },
  {
   "cell_type": "code",
   "execution_count": null,
   "metadata": {},
   "outputs": [],
   "source": [
    "#Create the input components for gradio interface\n",
    "administrative_input = gr.inputs.Number(label = \"Enter the administrative value of the session\")\n",
    "administrative_duration_input = gr.Number(label= \"Enter te administrative duration of the session\")\n",
    "informational_input = gr.inputs.Number(label = \"Enter the informational value of the session\")\n",
    "informational_duration_input = gr.inputs.Number(label = \"Enter the informational duration of the session\")\n",
    "product_related_input = gr.inputs.Number(label = \"Enter the product related value of the session\")\n",
    "product_related_duration_input = gr.inputs.Number(label = \"Enter the product related duration of the session\")\n",
    "bounce_rates_input = gr.inputs.Number(label = \"Enter the bounce rate of the session\")\n",
    "exit_rates_input = gr.inputs.Number(label = \"Enter the exit rate of the session\")\n",
    "page_values_input = gr.inputs.Number(label = \"Enter the page value of the session\")\n",
    "special_day_input = gr.inputs.Number(label = \"Is it a special day \")\n",
    "month_input = gr.inputs.Number(label = \"Enter the month visited starting from January as 0 {0:Jan, 1:Feb,....}\")\n",
    "operating_systems_input = gr.inputs.Number(label = \"Enter the operating system type\")\n",
    "browser_input = gr.inputs.Number(label = \"Enter the browser type\")\n",
    "region_input = gr.inputs.Number(label = \"Enter the region of the visitor\")\n",
    "traffic_type_input = gr.inputs.Number(label = \"Enter the traffice type of the visitor\")\n",
    "visitor_type_input = gr.inputs.Textbox(label = \"Enter the visitor type  for the visitor\")\n",
    "weekend_input = gr.inputs.Number(label = \"Is it a weekend\")\n",
    "# We create the output\n",
    "output = gr.Textbox()\n",
    "\n",
    "\n",
    "app = gr.Interface(fn = make_prediction, inputs=[administrative_input, administrative_duration_input, informational_input, informational_duration_input, product_related_input, product_related_duration_input,bounce_rates_input, exit_rates_input, page_values_input, special_day_input, month_input, operating_systems_input, browser_input, region_input, traffic_type_input, visitor_type_input, weekend_input], outputs=output)\n",
    "app.launch(share=True)"
   ]
  }
 ],
 "metadata": {
  "kernelspec": {
   "display_name": "Python 3.9.13 ('base')",
   "language": "python",
   "name": "python3"
  },
  "language_info": {
   "codemirror_mode": {
    "name": "ipython",
    "version": 3
   },
   "file_extension": ".py",
   "mimetype": "text/x-python",
   "name": "python",
   "nbconvert_exporter": "python",
   "pygments_lexer": "ipython3",
   "version": "3.9.13"
  },
  "orig_nbformat": 4,
  "vscode": {
   "interpreter": {
    "hash": "d12e26f72a40d5c48233c54861fca038d6a92135fc0e5e920944e69c69b6b29d"
   }
  }
 },
 "nbformat": 4,
 "nbformat_minor": 2
}
