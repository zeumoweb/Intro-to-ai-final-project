{
 "cells": [
  {
   "cell_type": "markdown",
   "metadata": {},
   "source": [
    "## IMPORTING LIBRARIES"
   ]
  },
  {
   "cell_type": "code",
   "execution_count": null,
   "metadata": {},
   "outputs": [],
   "source": [
    "# local modules\n",
    "import exploredata\n",
    "\n",
    "# external libraries\n",
    "import numpy as np\n",
    "import pandas as pd\n",
    "import matplotlib.pyplot as plt\n",
    "import seaborn as sns\n",
    "import os\n",
    "\n",
    "from sklearn.ensemble import RandomForestClassifier\n",
    "                  \n",
    "import pickle as pc\n",
    "import gradio as gr"
   ]
  },
  {
   "cell_type": "markdown",
   "metadata": {},
   "source": [
    "##### Function to load the dataset"
   ]
  },
  {
   "cell_type": "code",
   "execution_count": null,
   "metadata": {},
   "outputs": [],
   "source": [
    "def load_user_cookies_data(filename):\n",
    "    if os.path.isfile(filename):\n",
    "      return pd.read_csv(filename)\n",
    "    else:\n",
    "      return (\"Invalid file name, make sure the filename is correct and is in the same package\")"
   ]
  },
  {
   "cell_type": "code",
   "execution_count": null,
   "metadata": {},
   "outputs": [],
   "source": [
    "UserCookiesData = load_user_cookies_data(\"shopping.csv\")"
   ]
  },
  {
   "cell_type": "code",
   "execution_count": null,
   "metadata": {},
   "outputs": [],
   "source": [
    "UserCookiesData.info()"
   ]
  },
  {
   "cell_type": "code",
   "execution_count": null,
   "metadata": {},
   "outputs": [],
   "source": [
    "UserCookiesData.head()"
   ]
  },
  {
   "cell_type": "code",
   "execution_count": null,
   "metadata": {},
   "outputs": [],
   "source": [
    "UserCookiesData['Revenue'] = UserCookiesData['Revenue'].astype(int)\n",
    "UserCookiesData['Revenue'].value_counts()"
   ]
  },
  {
   "cell_type": "markdown",
   "metadata": {},
   "source": [
    "## EXPLORATORY DATA ANALYSIS"
   ]
  },
  {
   "cell_type": "markdown",
   "metadata": {},
   "source": [
    "* Here We will use the helper functions in the local explore.py module"
   ]
  },
  {
   "cell_type": "code",
   "execution_count": null,
   "metadata": {},
   "outputs": [],
   "source": [
    "# checking the Distribution of customers on Revenue\n",
    "\n",
    "plt.rcParams['figure.figsize'] = (13, 5)\n",
    "\n",
    "plt.subplot(1, 2, 1)\n",
    "sns.countplot(UserCookiesData['Revenue'], palette = 'coolwarm_r')\n",
    "plt.title('Distribution of customers on Revenue', fontsize = 15)\n",
    "plt.xlabel('Revenue or not', fontsize = 15)\n",
    "plt.ylabel('count', fontsize = 15)\n",
    "plt.show()"
   ]
  },
  {
   "cell_type": "markdown",
   "metadata": {},
   "source": [
    "##### Plotting a pie chart for operating systems distribution"
   ]
  },
  {
   "cell_type": "code",
   "execution_count": null,
   "metadata": {},
   "outputs": [],
   "source": [
    "UserCookiesData['OperatingSystems'].value_counts()"
   ]
  },
  {
   "cell_type": "code",
   "execution_count": null,
   "metadata": {},
   "outputs": [],
   "source": [
    "#Prepare and split into train, validate, and test sets.\n",
    "train, validate, test = exploredata.process_unencoded_data(data = UserCookiesData )\n"
   ]
  },
  {
   "cell_type": "code",
   "execution_count": null,
   "metadata": {},
   "outputs": [],
   "source": [
    "UserCookiesData.select_dtypes('object').columns"
   ]
  },
  {
   "cell_type": "code",
   "execution_count": null,
   "metadata": {},
   "outputs": [],
   "source": [
    "\n",
    "categorical_vars = UserCookiesData.select_dtypes('object').columns\n",
    "quantitative_vars = UserCookiesData.select_dtypes('float').columns\n",
    "int_vars = UserCookiesData.select_dtypes('int').columns"
   ]
  },
  {
   "cell_type": "markdown",
   "metadata": {},
   "source": [
    "##### Exploring univariate variables"
   ]
  },
  {
   "cell_type": "code",
   "execution_count": null,
   "metadata": {},
   "outputs": [],
   "source": [
    "UserCookiesData['OperatingSystems'].value_counts()"
   ]
  },
  {
   "cell_type": "code",
   "execution_count": null,
   "metadata": {},
   "outputs": [],
   "source": [
    "# This code cell is plotting a pie chart of the different operating systems.\n",
    "size = [6601, 2585, 2555, 589]\n",
    "colors = ['violet', 'yellow', 'green', 'orange']\n",
    "labels = \"2\", \"1\", \"3\", \"others\"\n",
    "plt.rcParams['figure.figsize'] = (18, 7)\n",
    "plt.subplot(1, 2, 2)\n",
    "plt.pie(size, colors = colors, labels = labels, shadow = True, autopct = '%.2f%%', startangle=90)\n",
    "plt.title('Different Operating Systems', fontsize = 30)\n",
    "plt.axis('off')\n",
    "plt.legend()\n",
    "plt.show()"
   ]
  },
  {
   "cell_type": "code",
   "execution_count": null,
   "metadata": {},
   "outputs": [],
   "source": [
    "# This code cell is plotting a pie chart for the visitor types\n",
    "size = [10551, 1694, 85]\n",
    "explode = [0, 0, 0.1]\n",
    "labels = \"Returning Visitor\", \"New Visitor\", \"Others\"\n",
    "colors = ['blue', 'lightblue', 'orange']\n",
    "plt.rcParams['figure.figsize'] = (18, 7)\n",
    "plt.subplot(1, 2, 1)\n",
    "plt.pie(size, colors = colors, labels = labels, explode = explode, shadow = True, autopct = '%.2f%%')\n",
    "plt.title('Different Visitors', fontsize = 30)\n",
    "plt.axis('off')\n",
    "plt.legend()\n",
    "plt.show()"
   ]
  },
  {
   "cell_type": "code",
   "execution_count": null,
   "metadata": {},
   "outputs": [],
   "source": [
    "exploredata.univariate(UserCookiesData, categorical_vars, quantitative_vars)"
   ]
  },
  {
   "cell_type": "markdown",
   "metadata": {},
   "source": [
    "##### Observations from univariate exploration"
   ]
  },
  {
   "cell_type": "markdown",
   "metadata": {},
   "source": [
    "- Different user types with reference to region are not normally (Gaussian) distributed. This regional data has an exponential distribution. Therefore, we must be concerned with this type distribution.\n",
    "- Multiple types of traffic are not normally(Gaussian) distributed. This data has an exponential distribution.\n",
    "- More than 85% of visitors are repeat customers, which is enormous. For marketing purposes, this information can be useful.\n",
    "- 90% of people only used the top 3 browsers.\n",
    "- 95% of the users in  this session cookies data uses the top 3 Operating Systems. The online will then need to concentrate on these browsers in order to grow embark on specific operations to increase customer purchases.\n",
    "- The distribution of Weekend and Revenue statistics is highly unbalanced."
   ]
  },
  {
   "cell_type": "code",
   "execution_count": null,
   "metadata": {},
   "outputs": [],
   "source": []
  },
  {
   "cell_type": "markdown",
   "metadata": {},
   "source": [
    "##### Exploring Bivariate Analysis"
   ]
  },
  {
   "cell_type": "code",
   "execution_count": null,
   "metadata": {},
   "outputs": [],
   "source": [
    "UserCookiesData.head(1)"
   ]
  },
  {
   "cell_type": "code",
   "execution_count": null,
   "metadata": {},
   "outputs": [],
   "source": [
    "exploredata.bivariate_categorical(data=UserCookiesData, target=\"Revenue\", categorical_variable =\"Weekend\" )"
   ]
  },
  {
   "cell_type": "code",
   "execution_count": null,
   "metadata": {},
   "outputs": [],
   "source": [
    "exploredata.bivariate_categorical(data = UserCookiesData, target= 'Revenue', categorical_variable = 'OperatingSystems')"
   ]
  },
  {
   "cell_type": "code",
   "execution_count": null,
   "metadata": {},
   "outputs": [],
   "source": [
    "exploredata.bivariate_quant(data = UserCookiesData, target = 'Revenue', quantitative_var = 'PageValues')"
   ]
  },
  {
   "cell_type": "code",
   "execution_count": null,
   "metadata": {},
   "outputs": [],
   "source": [
    "exploredata.bivariate_quant(data = UserCookiesData, target = 'Revenue', quantitative_var = 'ExitRates')"
   ]
  },
  {
   "cell_type": "code",
   "execution_count": null,
   "metadata": {},
   "outputs": [],
   "source": [
    "exploredata.bivariate_quant(data = UserCookiesData, target=\"Revenue\", quantitative_var=\"BounceRates\")"
   ]
  },
  {
   "cell_type": "code",
   "execution_count": null,
   "metadata": {},
   "outputs": [],
   "source": [
    "plt.figure(figsize=(15, 15))\n",
    "sns.heatmap(UserCookiesData.corr(), cmap='coolwarm', center=0, annot=True)\n",
    "plt.show()"
   ]
  },
  {
   "cell_type": "code",
   "execution_count": null,
   "metadata": {},
   "outputs": [],
   "source": [
    "plt.figure(figsize=[10,5])\n",
    "sns.pairplot(UserCookiesData,x_vars=['BounceRates','ExitRates'],y_vars=['BounceRates','ExitRates'],hue='Revenue',diag_kind='kde')\n",
    "plt.show()"
   ]
  },
  {
   "cell_type": "code",
   "execution_count": null,
   "metadata": {},
   "outputs": [],
   "source": [
    "\n",
    "exploredata.plot_cat_by_target(data =UserCookiesData, target_variable = \"Revenue\", categorical_var = \"VisitorType\")"
   ]
  },
  {
   "cell_type": "markdown",
   "metadata": {},
   "source": [
    "##### *Brief observations from bivariate analysis*"
   ]
  },
  {
   "cell_type": "markdown",
   "metadata": {},
   "source": [
    "## Statistical Analysis"
   ]
  },
  {
   "cell_type": "markdown",
   "metadata": {},
   "source": [
    "#### Hypothesis Testing"
   ]
  },
  {
   "cell_type": "markdown",
   "metadata": {},
   "source": [
    "##### Test Analysis for Categorical variables with label variable (Revenue)"
   ]
  },
  {
   "cell_type": "code",
   "execution_count": null,
   "metadata": {},
   "outputs": [],
   "source": [
    "alpha = 0.05"
   ]
  },
  {
   "cell_type": "markdown",
   "metadata": {},
   "source": [
    "  #### **Hypothesis 1**\n",
    "  - Ho : Browser type is independent of the revenue(either purchased made or not) of customers \n",
    "  - Ha : Browser type is not independent of the revenue(either purchased made or not) of customers\n",
    "\n",
    "\n",
    "  Using that alpha = 0.05"
   ]
  },
  {
   "cell_type": "code",
   "execution_count": null,
   "metadata": {},
   "outputs": [],
   "source": [
    "sns.histplot(data=UserCookiesData, x='Browser', hue=\"Revenue\" , palette =[\"yellow\", \"blue\"] )"
   ]
  },
  {
   "cell_type": "code",
   "execution_count": null,
   "metadata": {},
   "outputs": [],
   "source": [
    "test1 = exploredata.run_chi2(data= UserCookiesData, categorical_var = \"Browser\", target_variable=\"Revenue\")\n",
    "test1"
   ]
  },
  {
   "cell_type": "code",
   "execution_count": null,
   "metadata": {},
   "outputs": [],
   "source": [
    "test1[0]['p-value']< alpha"
   ]
  },
  {
   "cell_type": "markdown",
   "metadata": {},
   "source": [
    "* ##### *TakeAways from test 1*\n",
    "    - Since the p-value is greater than alpha (a significance value of 0.05), we failed to reject the null hypothesis that Browser type is independent of a users decision to make purchase.\n",
    "    - We conclude that, a user decision to either make purchase from an online shop is not affected by the type of Browser they user\n",
    "    - This will help us in our next method about feature engineering and feature selection to improve the effectives of some models like the Random forest classifier\n",
    "    - We will not include Browser type in the features."
   ]
  },
  {
   "cell_type": "markdown",
   "metadata": {},
   "source": [
    "#### **Hypothesis 2**\n",
    "\n",
    "  + Ho : VisitorType is independent of the purchase decision of the user\n",
    "  + Ha : VisitorType is not independent of the purchase decision of the user"
   ]
  },
  {
   "cell_type": "code",
   "execution_count": null,
   "metadata": {},
   "outputs": [],
   "source": [
    "sns.histplot(data=UserCookiesData, x=\"VisitorType\", hue=\"Revenue\", palette=[\"lightgreen\", \"yellow\"])"
   ]
  },
  {
   "cell_type": "code",
   "execution_count": null,
   "metadata": {},
   "outputs": [],
   "source": [
    "test2 = exploredata.run_chi2(data=UserCookiesData, categorical_var = \"VisitorType\", target_variable = \"Revenue\")\n",
    "test2"
   ]
  },
  {
   "cell_type": "code",
   "execution_count": null,
   "metadata": {},
   "outputs": [],
   "source": [
    "test2[0][\"p-value\"] < alpha"
   ]
  },
  {
   "cell_type": "markdown",
   "metadata": {},
   "source": [
    "* ##### *TakeAways from test 2*\n",
    "    - Since the p-value is less than alpha (a significance value of 0.05), we reject the null hypothesis that Visitor type is independent of a users decision to make purchase.\n",
    "    - We conclude that, a user decision to either make purchase from an online shop is not independent of the Visitors Type (Either returning user or new user)\n",
    "    - This will help us in our next method about feature engineering and feature selection to improve the effectives of some models like the Random forest classifier\n",
    "    - We will include VisitorType in the features for our Random Forest classifer training"
   ]
  },
  {
   "cell_type": "markdown",
   "metadata": {},
   "source": [
    " #### **Hypothesis 3**\n",
    "    * Ho: ProductRelated is independent of the purchase decision of the user\n",
    "    * Ha: ProductRelated is independent of the purchase decison of the user"
   ]
  },
  {
   "cell_type": "code",
   "execution_count": null,
   "metadata": {},
   "outputs": [],
   "source": [
    "plt.figure(figsize=[20,10])\n",
    "sns.histplot(data = UserCookiesData,weights=3, x='ProductRelated', hue=\"Revenue\", palette=[\"red\", \"green\"])"
   ]
  },
  {
   "cell_type": "code",
   "execution_count": null,
   "metadata": {},
   "outputs": [],
   "source": [
    "test3 = exploredata.run_chi2(data=UserCookiesData, categorical_var=\"ProductRelated\", target_variable=\"Revenue\")"
   ]
  },
  {
   "cell_type": "markdown",
   "metadata": {},
   "source": [
    "* ##### TakeAways from test 3"
   ]
  },
  {
   "cell_type": "markdown",
   "metadata": {},
   "source": [
    "  #### **Hypothesis 4**\n",
    "  - Ho:Operating Systems is independent of a users buying decision\n",
    "  - Ha: Operating Systems is not independent of a users buying decision"
   ]
  },
  {
   "cell_type": "code",
   "execution_count": null,
   "metadata": {},
   "outputs": [],
   "source": [
    "sns.histplot(data = UserCookiesData, weights=20, x = \"OperatingSystems\", hue = \"Revenue\", palette=[\"Black\", \"Yellow\"])"
   ]
  },
  {
   "cell_type": "code",
   "execution_count": null,
   "metadata": {},
   "outputs": [],
   "source": [
    "test4 = exploredata.run_chi2(data=UserCookiesData, categorical_var = \"OperatingSystems\", target_variable = \"Revenue\")\n",
    "test4"
   ]
  },
  {
   "cell_type": "code",
   "execution_count": null,
   "metadata": {},
   "outputs": [],
   "source": [
    "test4[0]['p-value'] < alpha"
   ]
  },
  {
   "cell_type": "markdown",
   "metadata": {},
   "source": [
    "* ##### *TakeAways from test 4*\n",
    "    - Since the p-value is less than the significance value of 0.05, we reject the null hypothesis and infer that the Operating Systems type is not independent of the customers intention to make a purchase"
   ]
  },
  {
   "cell_type": "markdown",
   "metadata": {},
   "source": [
    " #### **Hypothesis 5**"
   ]
  },
  {
   "cell_type": "code",
   "execution_count": null,
   "metadata": {},
   "outputs": [],
   "source": [
    "test5 = exploredata.run_chi2(data = UserCookiesData, categorical_var = \"Weekend\", target_variable = \"Revenue\")\n",
    "test5"
   ]
  },
  {
   "cell_type": "code",
   "execution_count": null,
   "metadata": {},
   "outputs": [],
   "source": [
    "test5[0]['p-value'] < alpha"
   ]
  },
  {
   "cell_type": "markdown",
   "metadata": {},
   "source": [
    "* ##### *TakeAways from test 5*\n",
    "    - Since the p-value is greater than alpha (a significance value of 0.05), we failed to reject the null hypothesis that Weekend is independent of a users decision to make purchase.\n",
    "    - We conclude that, a user decision to either make purchase from an online shop is not affected by the type whethe the user visits the website in weekends or not\n",
    "    - This pre-informs us that Weekend as a feature will not be used in our feature engineering and feature selection to improve the effectives of some models like the Random forest classifier\n",
    "    - We will not include Weekend in the features."
   ]
  },
  {
   "cell_type": "markdown",
   "metadata": {},
   "source": [
    "#### **Hypothesis test 6**\n",
    "\n",
    "  * Ho: The Region location of a customer is independent of the purchasing intent of the customer\n",
    "* Ha: The Region location of a customer is not independent of the purchasing intent of the customer"
   ]
  },
  {
   "cell_type": "code",
   "execution_count": null,
   "metadata": {},
   "outputs": [],
   "source": []
  },
  {
   "cell_type": "code",
   "execution_count": null,
   "metadata": {},
   "outputs": [],
   "source": [
    "\n",
    "sns.histplot(data=UserCookiesData, x = \"Region\", hue=\"Revenue\", bins=10, weights=30,palette=\"coolwarm\" )"
   ]
  },
  {
   "cell_type": "code",
   "execution_count": null,
   "metadata": {},
   "outputs": [],
   "source": [
    "test6 = exploredata.run_chi2(data=UserCookiesData, categorical_var=\"Region\", target_variable = \"Revenue\")\n",
    "print(test6)"
   ]
  },
  {
   "cell_type": "code",
   "execution_count": null,
   "metadata": {},
   "outputs": [],
   "source": [
    "test6[0]['p-value'] < alpha"
   ]
  },
  {
   "cell_type": "markdown",
   "metadata": {},
   "source": [
    "* ##### *TakeAways from test 6*\n",
    "   - Since the p-value is greater than the significane value of 0.05, we reject the null hypothesis and a conclsion drawn that the purchasing intent of a customer is not dependent on the Region location of a customer."
   ]
  },
  {
   "cell_type": "markdown",
   "metadata": {},
   "source": [
    "##### **Hypothesis Test Analysis for Quantitative variables with label variable (Revenue)**"
   ]
  },
  {
   "cell_type": "code",
   "execution_count": null,
   "metadata": {},
   "outputs": [],
   "source": [
    "quant_vars = ['BounceRates', 'ExitRates', 'PageValues', 'Administrative_Duration','Informational_Duration','ProductRelated_Duration']"
   ]
  },
  {
   "cell_type": "code",
   "execution_count": null,
   "metadata": {},
   "outputs": [],
   "source": [
    "exploredata.two_t_test(data = UserCookiesData, quantitative_vars=quant_vars, target_variable = 'Revenue')"
   ]
  },
  {
   "cell_type": "markdown",
   "metadata": {},
   "source": [
    "* ##### ***TakeAways from the levene, mannwhitneyu and shiporo-wilk test for the numerical variables***"
   ]
  },
  {
   "cell_type": "markdown",
   "metadata": {},
   "source": [
    "## DATA PREPROCESSING"
   ]
  },
  {
   "cell_type": "markdown",
   "metadata": {},
   "source": [
    "##### *Encoding both weekend and the label variable (Revenue) into numeric for modelling*"
   ]
  },
  {
   "cell_type": "code",
   "execution_count": null,
   "metadata": {},
   "outputs": [],
   "source": [
    "from sklearn.preprocessing import LabelEncoder\n",
    "from sklearn.model_selection import train_test_split"
   ]
  },
  {
   "cell_type": "code",
   "execution_count": null,
   "metadata": {},
   "outputs": [],
   "source": [
    "UserCookiesEncoded = pd.get_dummies(UserCookiesData)"
   ]
  },
  {
   "cell_type": "code",
   "execution_count": null,
   "metadata": {},
   "outputs": [],
   "source": [
    "UserCookiesEncoded.info()"
   ]
  },
  {
   "cell_type": "code",
   "execution_count": null,
   "metadata": {},
   "outputs": [],
   "source": [
    "encoder = LabelEncoder()"
   ]
  },
  {
   "cell_type": "code",
   "execution_count": null,
   "metadata": {},
   "outputs": [],
   "source": [
    "UserCookiesEncoded[\"Weekend\"] = encoder.fit_transform(UserCookiesEncoded[\"Weekend\"])"
   ]
  },
  {
   "cell_type": "code",
   "execution_count": null,
   "metadata": {},
   "outputs": [],
   "source": [
    "UserCookiesEncoded[\"Revenue\"] = encoder.fit_transform(UserCookiesEncoded[\"Revenue\"])"
   ]
  },
  {
   "cell_type": "code",
   "execution_count": null,
   "metadata": {},
   "outputs": [],
   "source": [
    "UserCookiesEncoded[\"Revenue\"].value_counts()"
   ]
  },
  {
   "cell_type": "markdown",
   "metadata": {},
   "source": [
    "##### *Data segmentation into training and testing data sets*"
   ]
  },
  {
   "cell_type": "code",
   "execution_count": null,
   "metadata": {},
   "outputs": [],
   "source": [
    "y_label = UserCookiesEncoded[\"Revenue\"]\n",
    "x_label = UserCookiesEncoded.drop([\"Revenue\"],axis=1)"
   ]
  },
  {
   "cell_type": "code",
   "execution_count": null,
   "metadata": {},
   "outputs": [],
   "source": [
    "\n",
    "x_train, x_test, y_train, y_test = train_test_split(x_label, y_label, test_size =  0.2, random_state = 0)"
   ]
  },
  {
   "cell_type": "markdown",
   "metadata": {},
   "source": [
    "## MODEL TRAINING AND TESTING"
   ]
  },
  {
   "cell_type": "markdown",
   "metadata": {},
   "source": [
    "* ##### ***Random Forest Modelling***"
   ]
  },
  {
   "cell_type": "code",
   "execution_count": null,
   "metadata": {},
   "outputs": [],
   "source": [
    "from sklearn.metrics import confusion_matrix"
   ]
  },
  {
   "cell_type": "code",
   "execution_count": null,
   "metadata": {},
   "outputs": [],
   "source": [
    "def compare_random_classifier_models(x_train, y_train, x_test, y_test):\n",
    "    models_cont = []\n",
    "    for num in range(2, 20):\n",
    "        for val in range(1, 23):\n",
    "            classifier = RandomForestClassifier(n_estimators=50, random_state = 126, max_depth = num, min_samples_leaf = val)\n",
    "            classifier.fit(x_train, y_train)\n",
    "            train_score = classifier.score(x_train, y_train)\n",
    "            predictions = classifier.predict(x_test)\n",
    "\n",
    "            tp = confusion_matrix(y_test, predictions)[1][1]\n",
    "            fp = confusion_matrix(y_test, predictions)[0][1]\n",
    "            tn = confusion_matrix(y_test, predictions)[0][0]\n",
    "            fn = confusion_matrix(y_test, predictions)[1][0]\n",
    "            test_score = classifier.score(x_test, y_test)\n",
    "            eval_params = {\n",
    "                'max_depth':num,\n",
    "                'min_samples_leaf': val,\n",
    "                'True Positves': tp,\n",
    "                'False Positives': fp,\n",
    "                'True Negatives': tn,\n",
    "                'False Negatvies': fn,\n",
    "                'Precision': tp / (tp + fp),\n",
    "                'Recall': tp / (tp + fn),\n",
    "                'Specificity': round(tn / (tn + fp),2),\n",
    "                'Training Accuracy': round(train_score, 2),\n",
    "                'Test Accuracy': round(test_score,2)\n",
    "            }\n",
    "            models_cont.append(eval_params)\n",
    "    return pd.DataFrame(models_cont)\n"
   ]
  },
  {
   "cell_type": "code",
   "execution_count": null,
   "metadata": {},
   "outputs": [],
   "source": [
    "compare_random_classifier_models(x_train, y_train, x_test, y_test)"
   ]
  },
  {
   "cell_type": "code",
   "execution_count": null,
   "metadata": {},
   "outputs": [],
   "source": [
    "def test_best_random_forest_classifier(x_train, y_train, x_test, y_test):\n",
    "    classifier = RandomForestClassifier(random_state = 123, max_depth = 395, min_samples_leaf = 19)\n",
    "    classifier.fit(x_train, y_train)\n",
    "    train_score = classifier.score(x_train, y_train)\n",
    "    test_score = classifier.score(x_test, y_test)\n",
    "    predictions = classifier.predict(x_test)\n",
    "\n",
    "    tp = confusion_matrix(y_test, predictions)[1][1]\n",
    "    fp = confusion_matrix(y_test, predictions)[0][1]\n",
    "    tn = confusion_matrix(y_test, predictions)[0][0]\n",
    "    fn = confusion_matrix(y_test, predictions)[1][0]\n",
    "    test_score = classifier.score(x_test, y_test)\n",
    "    eval_params = {\n",
    "        'max_depth':395,\n",
    "        'min_samples_leaf': 19,\n",
    "        'True Positves': tp,\n",
    "        'False Positives': fp,\n",
    "        'True Negatives': tn,\n",
    "        'False Negatvies': fn,\n",
    "        'Precision': tp / (tp + fp),\n",
    "        'Recall': tp / (tp + fn),\n",
    "        'Specificity': round(tn / (tn + fp),2),\n",
    "        'Training Accuracy': round(train_score, 2),\n",
    "        'Test Accuracy': round(test_score,2)\n",
    "    }\n",
    "    test_results = [eval_params]\n",
    "    test_df = pd.DataFrame(test_results)\n",
    "    return classifier, test_df"
   ]
  },
  {
   "cell_type": "code",
   "execution_count": null,
   "metadata": {},
   "outputs": [],
   "source": [
    "test_best_random_forest_classifier(x_train, y_train,x_test, y_test)[1]"
   ]
  },
  {
   "cell_type": "code",
   "execution_count": null,
   "metadata": {},
   "outputs": [],
   "source": []
  },
  {
   "cell_type": "markdown",
   "metadata": {},
   "source": [
    "### Feature Engineering"
   ]
  },
  {
   "cell_type": "code",
   "execution_count": null,
   "metadata": {},
   "outputs": [],
   "source": []
  },
  {
   "cell_type": "markdown",
   "metadata": {},
   "source": [
    "* ##### ***KNN Modelling***"
   ]
  },
  {
   "cell_type": "code",
   "execution_count": null,
   "metadata": {},
   "outputs": [],
   "source": []
  },
  {
   "cell_type": "markdown",
   "metadata": {},
   "source": [
    "## MODEL EVALUATION"
   ]
  },
  {
   "cell_type": "code",
   "execution_count": null,
   "metadata": {},
   "outputs": [],
   "source": []
  },
  {
   "cell_type": "markdown",
   "metadata": {},
   "source": [
    "### DEPLOYMENT OF BEST MODEL WITH GRADIO"
   ]
  },
  {
   "cell_type": "code",
   "execution_count": null,
   "metadata": {},
   "outputs": [],
   "source": []
  }
 ],
 "metadata": {
  "kernelspec": {
   "display_name": "Python 3.9.13 ('base')",
   "language": "python",
   "name": "python3"
  },
  "language_info": {
   "codemirror_mode": {
    "name": "ipython",
    "version": 3
   },
   "file_extension": ".py",
   "mimetype": "text/x-python",
   "name": "python",
   "nbconvert_exporter": "python",
   "pygments_lexer": "ipython3",
   "version": "3.9.13"
  },
  "orig_nbformat": 4,
  "vscode": {
   "interpreter": {
    "hash": "d12e26f72a40d5c48233c54861fca038d6a92135fc0e5e920944e69c69b6b29d"
   }
  }
 },
 "nbformat": 4,
 "nbformat_minor": 2
}
